{
  "nbformat": 4,
  "nbformat_minor": 0,
  "metadata": {
    "colab": {
      "provenance": []
    },
    "kernelspec": {
      "name": "python3",
      "display_name": "Python 3"
    },
    "language_info": {
      "name": "python"
    }
  },
  "cells": [
    {
      "cell_type": "code",
      "execution_count": null,
      "metadata": {
        "colab": {
          "base_uri": "https://localhost:8080/"
        },
        "id": "e5Uk0PjVbfsM",
        "outputId": "624c9c03-6657-4391-c9cb-873ef64150fd"
      },
      "outputs": [
        {
          "output_type": "stream",
          "name": "stdout",
          "text": [
            "[2, 7, 12, 13, 23, 45]\n"
          ]
        }
      ],
      "source": [
        "#sort in list\n",
        "a=[2,23,12,45,13,7]\n",
        "a.sort()\n",
        "print(a)"
      ]
    },
    {
      "cell_type": "code",
      "source": [
        "\n",
        "#reshape this using arange of numbers\n",
        "import numpy as np\n",
        "A=np.arange(1,13).reshape(3,4)\n",
        "print(A)"
      ],
      "metadata": {
        "colab": {
          "base_uri": "https://localhost:8080/"
        },
        "id": "9ZkxU4eYgNg-",
        "outputId": "cad235e7-f3f6-438d-e98c-1bdbcf9b98fc"
      },
      "execution_count": null,
      "outputs": [
        {
          "output_type": "stream",
          "name": "stdout",
          "text": [
            "[[ 1  2  3  4]\n",
            " [ 5  6  7  8]\n",
            " [ 9 10 11 12]]\n"
          ]
        }
      ]
    },
    {
      "cell_type": "code",
      "source": [
        "\n",
        "#sorted in list\n",
        "a=[12,7,14,56,13]\n",
        "b=sorted(a)\n",
        "print(b)"
      ],
      "metadata": {
        "colab": {
          "base_uri": "https://localhost:8080/"
        },
        "id": "Wmq4rIj0fs1O",
        "outputId": "bb3af0da-326a-4ac3-b49d-022ff71c57f4"
      },
      "execution_count": null,
      "outputs": [
        {
          "output_type": "stream",
          "name": "stdout",
          "text": [
            "[7, 12, 13, 14, 56]\n"
          ]
        }
      ]
    },
    {
      "cell_type": "code",
      "source": [
        "\n",
        "#reshape this using linspace\n",
        "import numpy as np\n",
        "A=np.linspace(4,8,10).reshape(5,2)\n",
        "print(A)"
      ],
      "metadata": {
        "colab": {
          "base_uri": "https://localhost:8080/"
        },
        "id": "TBZ7hEhdg0Fg",
        "outputId": "9dbd312e-3523-4927-b90d-e0d9a20445e6"
      },
      "execution_count": null,
      "outputs": [
        {
          "output_type": "stream",
          "name": "stdout",
          "text": [
            "[[4.         4.44444444]\n",
            " [4.88888889 5.33333333]\n",
            " [5.77777778 6.22222222]\n",
            " [6.66666667 7.11111111]\n",
            " [7.55555556 8.        ]]\n"
          ]
        }
      ]
    },
    {
      "cell_type": "code",
      "source": [
        "A=np.array([4,76,89,13,24,35,64,29]).reshape(2,2,2)\n",
        "print(A)"
      ],
      "metadata": {
        "colab": {
          "base_uri": "https://localhost:8080/"
        },
        "id": "nxmpXs8KibwO",
        "outputId": "2e6c6bff-f0cd-48bc-acd8-753bd24b8547"
      },
      "execution_count": null,
      "outputs": [
        {
          "output_type": "stream",
          "name": "stdout",
          "text": [
            "[[[ 4 76]\n",
            "  [89 13]]\n",
            "\n",
            " [[24 35]\n",
            "  [64 29]]]\n"
          ]
        }
      ]
    },
    {
      "cell_type": "code",
      "source": [
        "\n",
        "#resize\n",
        "A=np.array([4,76,89,75,64,23,90,82])\n",
        "A.resize(2,2,2) #changes the shape of orginal array\n",
        "#resize- changes needs savings in another variable\n",
        "print(A)"
      ],
      "metadata": {
        "colab": {
          "base_uri": "https://localhost:8080/"
        },
        "id": "u4FqXvdtjC40",
        "outputId": "0a9cf737-f09f-42b3-855e-6d4724aaf6ce"
      },
      "execution_count": null,
      "outputs": [
        {
          "output_type": "stream",
          "name": "stdout",
          "text": [
            "[[[ 4 76]\n",
            "  [89 75]]\n",
            "\n",
            " [[64 23]\n",
            "  [90 82]]]\n"
          ]
        }
      ]
    },
    {
      "cell_type": "code",
      "source": [
        "\n",
        "#subtract two numpy arrays\n",
        "A=np.array([34,56,78,90])\n",
        "B=np.array([7,9,3,10])\n",
        "C=A-B\n",
        "print(A-B)\n",
        "#print(C)"
      ],
      "metadata": {
        "colab": {
          "base_uri": "https://localhost:8080/"
        },
        "id": "-H7HMuupkEQ5",
        "outputId": "2d45f613-31fb-470e-db26-c700a1a667ed"
      },
      "execution_count": null,
      "outputs": [
        {
          "output_type": "stream",
          "name": "stdout",
          "text": [
            "[27 47 75 80]\n"
          ]
        }
      ]
    },
    {
      "cell_type": "code",
      "source": [
        "\n",
        "#add two numpy arrays\n",
        "A=np.array([1,2,3,4])\n",
        "B=np.array([1,2,3,4])\n",
        "C=A+B\n",
        "print(C)"
      ],
      "metadata": {
        "colab": {
          "base_uri": "https://localhost:8080/"
        },
        "id": "ce60iLImlH9S",
        "outputId": "6ad5e222-84fa-4be5-b727-f431802c3549"
      },
      "execution_count": null,
      "outputs": [
        {
          "output_type": "stream",
          "name": "stdout",
          "text": [
            "[2 4 6 8]\n"
          ]
        }
      ]
    },
    {
      "cell_type": "code",
      "source": [
        "#memory multiply two numpy arrays\n",
        "import numpy as np\n",
        "A=np.array([1,2,2,4]).reshape(2,2)\n",
        "B=np.array([1,2,3,4]).reshape(2,2)\n",
        "C=A*B #memory multiplication\n",
        "print(C)"
      ],
      "metadata": {
        "colab": {
          "base_uri": "https://localhost:8080/"
        },
        "id": "XXwQbBMZlqjg",
        "outputId": "08cebddb-9b8c-4baa-b498-f903abf07567"
      },
      "execution_count": null,
      "outputs": [
        {
          "output_type": "stream",
          "name": "stdout",
          "text": [
            "[[ 1  4]\n",
            " [ 6 16]]\n"
          ]
        }
      ]
    },
    {
      "cell_type": "code",
      "source": [
        "#matrix multiply two numpy arrays\n",
        "import numpy as np\n",
        "A=np.array([1,2,2,4]).reshape(2,2)\n",
        "B=np.array([1,2,3,4]).reshape(2,2)\n",
        "C=A@B #matrix multiplication\n",
        "print(C)"
      ],
      "metadata": {
        "colab": {
          "base_uri": "https://localhost:8080/"
        },
        "id": "qQYDKeV2mgwg",
        "outputId": "fe0d6b12-1f8f-45b2-f619-af5497424e0c"
      },
      "execution_count": null,
      "outputs": [
        {
          "output_type": "stream",
          "name": "stdout",
          "text": [
            "[[ 7 10]\n",
            " [14 20]]\n"
          ]
        }
      ]
    },
    {
      "cell_type": "code",
      "source": [
        "#find Max and min in numpy arrays\n",
        "A=np.array([2,65,12,45,94,74])\n",
        "print(A.max()) #max and min only excepts numeric values\n",
        "print(A.min())"
      ],
      "metadata": {
        "colab": {
          "base_uri": "https://localhost:8080/"
        },
        "id": "z52DF0YHnSS4",
        "outputId": "235fe486-a2c9-4fdf-d639-a36f36178332"
      },
      "execution_count": null,
      "outputs": [
        {
          "output_type": "stream",
          "name": "stdout",
          "text": [
            "94\n",
            "2\n"
          ]
        }
      ]
    },
    {
      "cell_type": "code",
      "source": [
        "#print Max and min in matrixs in numpy\n",
        "A=np.array([34,25,43,78]).reshape(2,2)\n",
        "print(A.max(axis=0)) #axis=0 - it prints Max number in every column in matrix\n",
        "print(A.max(axis=1)) #axis=1 - it prints Max number in every row in matrix"
      ],
      "metadata": {
        "colab": {
          "base_uri": "https://localhost:8080/"
        },
        "id": "-4he0DRcoFtp",
        "outputId": "09849b79-1f02-4181-c209-5dcf2cef9b9d"
      },
      "execution_count": null,
      "outputs": [
        {
          "output_type": "stream",
          "name": "stdout",
          "text": [
            "[43 78]\n",
            "[34 78]\n"
          ]
        }
      ]
    },
    {
      "cell_type": "code",
      "source": [
        "\n",
        "#joining the arrays matrix\n",
        "#vstack,hstack\n",
        "import numpy as np\n",
        "A=np.array([1,2,3,4]).reshape(2,2)\n",
        "B=np.array([1,2,3,4]).reshape(2,2)\n",
        "print(np.vstack((A,B))) #print verically stacking the array matrix\n",
        "print(np.hstack((A,B))) #prints horizontally stacking the array matrix\n",
        "print(np.stack((A,B),axis=0))"
      ],
      "metadata": {
        "colab": {
          "base_uri": "https://localhost:8080/"
        },
        "id": "cwTafkzWqGde",
        "outputId": "4671d56a-616f-4d77-b662-d4d6c8ed0066"
      },
      "execution_count": null,
      "outputs": [
        {
          "output_type": "stream",
          "name": "stdout",
          "text": [
            "[[1 2]\n",
            " [3 4]\n",
            " [1 2]\n",
            " [3 4]]\n",
            "[[1 2 1 2]\n",
            " [3 4 3 4]]\n",
            "[[[1 2]\n",
            "  [3 4]]\n",
            "\n",
            " [[1 2]\n",
            "  [3 4]]]\n"
          ]
        }
      ]
    },
    {
      "cell_type": "code",
      "source": [
        "\n",
        "#dstack\n",
        "A=np.arange(60).reshape(2,5,6)\n",
        "print(A)\n",
        "print(np.dstack(A)) #no.of rows -> no.of groups"
      ],
      "metadata": {
        "colab": {
          "base_uri": "https://localhost:8080/"
        },
        "id": "xcuX4NNVsMml",
        "outputId": "5191dbfd-200c-4c55-a2df-6e4d7f842ce7"
      },
      "execution_count": null,
      "outputs": [
        {
          "output_type": "stream",
          "name": "stdout",
          "text": [
            "[[[ 0  1  2  3  4  5]\n",
            "  [ 6  7  8  9 10 11]\n",
            "  [12 13 14 15 16 17]\n",
            "  [18 19 20 21 22 23]\n",
            "  [24 25 26 27 28 29]]\n",
            "\n",
            " [[30 31 32 33 34 35]\n",
            "  [36 37 38 39 40 41]\n",
            "  [42 43 44 45 46 47]\n",
            "  [48 49 50 51 52 53]\n",
            "  [54 55 56 57 58 59]]]\n",
            "[[[ 0 30]\n",
            "  [ 1 31]\n",
            "  [ 2 32]\n",
            "  [ 3 33]\n",
            "  [ 4 34]\n",
            "  [ 5 35]]\n",
            "\n",
            " [[ 6 36]\n",
            "  [ 7 37]\n",
            "  [ 8 38]\n",
            "  [ 9 39]\n",
            "  [10 40]\n",
            "  [11 41]]\n",
            "\n",
            " [[12 42]\n",
            "  [13 43]\n",
            "  [14 44]\n",
            "  [15 45]\n",
            "  [16 46]\n",
            "  [17 47]]\n",
            "\n",
            " [[18 48]\n",
            "  [19 49]\n",
            "  [20 50]\n",
            "  [21 51]\n",
            "  [22 52]\n",
            "  [23 53]]\n",
            "\n",
            " [[24 54]\n",
            "  [25 55]\n",
            "  [26 56]\n",
            "  [27 57]\n",
            "  [28 58]\n",
            "  [29 59]]]\n"
          ]
        }
      ]
    },
    {
      "cell_type": "code",
      "source": [
        "#splitting arrays matrix\n",
        "import numpy as np\n",
        "A=np.arange(36).reshape(6,6)\n",
        "print(A)\n",
        "#np.vsplit(A,3)\n",
        "np.vsplit(A,(2,5)) #it splits vertically\n",
        "#np.hsplit(A,3)\n",
        "#np.hsplit(A,(1,2)) #it splits horizontally"
      ],
      "metadata": {
        "colab": {
          "base_uri": "https://localhost:8080/"
        },
        "id": "3ul1eaT6tNVE",
        "outputId": "c28b3c3b-792d-4361-f6b8-bea8e91fab28"
      },
      "execution_count": null,
      "outputs": [
        {
          "output_type": "stream",
          "name": "stdout",
          "text": [
            "[[ 0  1  2  3  4  5]\n",
            " [ 6  7  8  9 10 11]\n",
            " [12 13 14 15 16 17]\n",
            " [18 19 20 21 22 23]\n",
            " [24 25 26 27 28 29]\n",
            " [30 31 32 33 34 35]]\n"
          ]
        },
        {
          "output_type": "execute_result",
          "data": {
            "text/plain": [
              "[array([[ 0,  1,  2,  3,  4,  5],\n",
              "        [ 6,  7,  8,  9, 10, 11]]),\n",
              " array([[12, 13, 14, 15, 16, 17],\n",
              "        [18, 19, 20, 21, 22, 23],\n",
              "        [24, 25, 26, 27, 28, 29]]),\n",
              " array([[30, 31, 32, 33, 34, 35]])]"
            ]
          },
          "metadata": {},
          "execution_count": 96
        }
      ]
    },
    {
      "cell_type": "code",
      "source": [
        "\n",
        "#argmax\n",
        "A=np.linspace(18,5,18).reshape(3,6)\n",
        "print(A)\n",
        "print(A.argmax(axis=0))\n",
        "print(A.argmax(axis=1)) #position[0 1 2 3]\n",
        "print(A.argmin())"
      ],
      "metadata": {
        "colab": {
          "base_uri": "https://localhost:8080/"
        },
        "id": "T_QpmBkDyCx4",
        "outputId": "b6fd57e8-72bf-4d5a-98e8-98cfb04222c7"
      },
      "execution_count": null,
      "outputs": [
        {
          "output_type": "stream",
          "name": "stdout",
          "text": [
            "[[18.         17.23529412 16.47058824 15.70588235 14.94117647 14.17647059]\n",
            " [13.41176471 12.64705882 11.88235294 11.11764706 10.35294118  9.58823529]\n",
            " [ 8.82352941  8.05882353  7.29411765  6.52941176  5.76470588  5.        ]]\n",
            "[0 0 0 0 0 0]\n",
            "[0 0 0]\n",
            "17\n"
          ]
        }
      ]
    },
    {
      "cell_type": "code",
      "source": [
        "#argmax\n",
        "import numpy as np\n",
        "A=np.array([11,23,45,26,9,24,78,25,79,36,42,64]).reshape(3,4)\n",
        "print(A)\n",
        "print(A.argmax(axis=0))\n",
        "print(A.argmax(axis=1))\n",
        "print(A.argmin())"
      ],
      "metadata": {
        "colab": {
          "base_uri": "https://localhost:8080/"
        },
        "id": "QdHus-LH3oQz",
        "outputId": "ed9e3cb3-03af-4a8c-e1cb-8c1ed96f2101"
      },
      "execution_count": null,
      "outputs": [
        {
          "output_type": "stream",
          "name": "stdout",
          "text": [
            "[[11 23 45 26]\n",
            " [ 9 24 78 25]\n",
            " [79 36 42 64]]\n",
            "[2 2 1 2]\n",
            "[2 2 0]\n",
            "4\n"
          ]
        }
      ]
    },
    {
      "cell_type": "code",
      "source": [
        "#mean,median,mode,std,varience\n",
        "import numpy as np\n",
        "A=np.array([1,2,3,4,5,6])\n",
        "print(\"mean:\",np.mean(A))\n",
        "print(\"median:\",np.median(A))\n",
        "print(\"variance:\",np.var(A))\n",
        "print(\"standard deviation:\",np.std(A))"
      ],
      "metadata": {
        "colab": {
          "base_uri": "https://localhost:8080/"
        },
        "id": "k9Grwt5r46vf",
        "outputId": "6cc150d0-2fd5-4ef3-f0d5-e861fbf4d5c8"
      },
      "execution_count": null,
      "outputs": [
        {
          "output_type": "stream",
          "name": "stdout",
          "text": [
            "mean: 3.5\n",
            "median: 3.5\n",
            "variance: 2.9166666666666665\n",
            "standard deviation: 1.707825127659933\n"
          ]
        }
      ]
    },
    {
      "cell_type": "code",
      "source": [
        "A=np.pi #pi=180\n",
        "print(A) #radians\n",
        "np.rad2deg(A)"
      ],
      "metadata": {
        "colab": {
          "base_uri": "https://localhost:8080/"
        },
        "id": "JskHUWQB7v8R",
        "outputId": "7192782f-65ea-4ab8-a2bd-61bf317c4214"
      },
      "execution_count": null,
      "outputs": [
        {
          "output_type": "stream",
          "name": "stdout",
          "text": [
            "3.141592653589793\n"
          ]
        },
        {
          "output_type": "execute_result",
          "data": {
            "text/plain": [
              "180.0"
            ]
          },
          "metadata": {},
          "execution_count": 121
        }
      ]
    },
    {
      "cell_type": "code",
      "source": [
        "A=np.array([np.pi/4,np.pi/3,np.pi/2,np.pi])\n",
        "print(A)"
      ],
      "metadata": {
        "colab": {
          "base_uri": "https://localhost:8080/"
        },
        "id": "DRWRuUpq8Du2",
        "outputId": "6711b5fb-ed66-416b-db1c-4fa0965612d2"
      },
      "execution_count": null,
      "outputs": [
        {
          "output_type": "stream",
          "name": "stdout",
          "text": [
            "[0.78539816 1.04719755 1.57079633 3.14159265]\n"
          ]
        }
      ]
    },
    {
      "cell_type": "code",
      "source": [
        "print(np.rad2deg(A))"
      ],
      "metadata": {
        "colab": {
          "base_uri": "https://localhost:8080/"
        },
        "id": "2929M8jz8maa",
        "outputId": "e4528975-fea0-4ff7-b441-f9c32b4ee416"
      },
      "execution_count": null,
      "outputs": [
        {
          "output_type": "stream",
          "name": "stdout",
          "text": [
            "[ 45.  60.  90. 180.]\n"
          ]
        }
      ]
    },
    {
      "cell_type": "code",
      "source": [
        "C=np.array([30,45,60,90,120,180])\n",
        "print(np.deg2rad(C))"
      ],
      "metadata": {
        "colab": {
          "base_uri": "https://localhost:8080/"
        },
        "id": "uPUmbHs18_gB",
        "outputId": "d1355938-5b87-4612-dc81-31ae5ca6f381"
      },
      "execution_count": null,
      "outputs": [
        {
          "output_type": "stream",
          "name": "stdout",
          "text": [
            "[0.52359878 0.78539816 1.04719755 1.57079633 2.0943951  3.14159265]\n"
          ]
        }
      ]
    },
    {
      "cell_type": "code",
      "source": [
        "#trignometry values\n",
        "print(\"sin values\")\n",
        "print(np.sin(C))\n",
        "print(\"cos values\")\n",
        "print(np.cos(C))\n",
        "print(\"tan values\")\n",
        "print(np.tan(C))\n",
        "'''print(\"cot values\")\n",
        "print(np.cot(C))\n",
        "print(\"sec values\")\n",
        "print(np.sec(C))\n",
        "print(\"cosec values\")\n",
        "print(np.cosec(C))'''\n",
        "print(np.arcsin(1)) #sin^-1\n",
        "print(np.arccos(1)) #cis^-1\n",
        "print(np.arctan(1)) #tan^-1"
      ],
      "metadata": {
        "colab": {
          "base_uri": "https://localhost:8080/"
        },
        "id": "lykbo-oB9fOg",
        "outputId": "6ac07ccc-a15b-46bd-c6c1-e1b1da7c251d"
      },
      "execution_count": null,
      "outputs": [
        {
          "output_type": "stream",
          "name": "stdout",
          "text": [
            "sin values\n",
            "[-0.98803162  0.85090352 -0.30481062  0.89399666  0.58061118 -0.80115264]\n",
            "cos values\n",
            "[ 0.15425145  0.52532199 -0.95241298 -0.44807362  0.81418097 -0.59846007]\n",
            "tan values\n",
            "[-6.4053312   1.61977519  0.32004039 -1.99520041  0.71312301  1.33869021]\n",
            "1.5707963267948966\n",
            "0.0\n",
            "0.7853981633974483\n"
          ]
        }
      ]
    },
    {
      "cell_type": "code",
      "source": [
        "#hypotneuse\n",
        "a=80\n",
        "b=60\n",
        "print(np.hypot(a,b)) #hypotneuse"
      ],
      "metadata": {
        "colab": {
          "base_uri": "https://localhost:8080/"
        },
        "id": "l6lIlrT__FwI",
        "outputId": "81922d53-ad75-4882-c810-ebc2958275bb"
      },
      "execution_count": null,
      "outputs": [
        {
          "output_type": "stream",
          "name": "stdout",
          "text": [
            "100.0\n"
          ]
        }
      ]
    },
    {
      "cell_type": "code",
      "source": [
        "#searching an array\n",
        "import numpy as np\n",
        "A=np.array([90,34,56,13,35,56])\n",
        "print(np.where(A==56)) #56 is present in two positions\n",
        "print(np.where(A%2==0)) #even\n",
        "print(np.where(A>50))"
      ],
      "metadata": {
        "colab": {
          "base_uri": "https://localhost:8080/"
        },
        "id": "0E8o60p5_0es",
        "outputId": "f819d614-4db8-445f-e3b9-9fba248f0fdd"
      },
      "execution_count": null,
      "outputs": [
        {
          "output_type": "stream",
          "name": "stdout",
          "text": [
            "(array([2, 5]),)\n",
            "(array([0, 1, 2, 5]),)\n",
            "(array([0, 2, 5]),)\n"
          ]
        }
      ]
    },
    {
      "cell_type": "code",
      "source": [
        "A=np.array([90,3,45,84,53,27])\n",
        "print(np.searchsorted(A,12)) #outputs the index of a sorted element"
      ],
      "metadata": {
        "colab": {
          "base_uri": "https://localhost:8080/"
        },
        "id": "79KCPsF9Rv82",
        "outputId": "62799f20-745d-4287-e22a-90b784d913cf"
      },
      "execution_count": null,
      "outputs": [
        {
          "output_type": "stream",
          "name": "stdout",
          "text": [
            "2\n"
          ]
        }
      ]
    },
    {
      "cell_type": "code",
      "source": [
        "A=np.array([2,3,4,5])\n",
        "B=np.array([6,7,8,9])\n",
        "print(np.add(A,B))\n",
        "print(np.subtract(A,B))\n",
        "print(np.mod(A,B))\n",
        "print(np.multiply(A,B))\n",
        "print(np.divmod(A,B))\n",
        "print(np.sort(A))\n",
        "print(np.diff(A))\n",
        "print(np.setdiff1d(A,B))\n",
        "print(np.intersect1d(A,B))"
      ],
      "metadata": {
        "colab": {
          "base_uri": "https://localhost:8080/"
        },
        "id": "g1TVR80-Uuys",
        "outputId": "3ba56619-984f-4a1a-bd1e-2aff08d197d7"
      },
      "execution_count": null,
      "outputs": [
        {
          "output_type": "stream",
          "name": "stdout",
          "text": [
            "[ 8 10 12 14]\n",
            "[-4 -4 -4 -4]\n",
            "[2 3 4 5]\n",
            "[12 21 32 45]\n",
            "(array([0, 0, 0, 0]), array([2, 3, 4, 5]))\n",
            "[2 3 4 5]\n",
            "[1 1 1]\n",
            "[2 3 4 5]\n",
            "[]\n"
          ]
        }
      ]
    },
    {
      "cell_type": "code",
      "source": [
        "\n",
        "#round functions\n",
        "import numpy as np\n",
        "A1=np.trunc([-3.1666,3.6667])\n",
        "print(A1)\n",
        "A2=np.fix([-3.1666,3.6667])\n",
        "print(A2)\n",
        "A3=np.around(-3.1666,4)\n",
        "print(A3)\n",
        "A4=np.floor([-3.1666,3.6667])\n",
        "print(A4)\n",
        "A5=np.ceil([-3.1666,3.6667])\n",
        "print(A5)"
      ],
      "metadata": {
        "colab": {
          "base_uri": "https://localhost:8080/"
        },
        "id": "O_9BSvCfXnkU",
        "outputId": "0e5fb76d-de45-46ce-aaee-cd2b17a65610"
      },
      "execution_count": null,
      "outputs": [
        {
          "output_type": "stream",
          "name": "stdout",
          "text": [
            "[-3.  3.]\n",
            "[-3.  3.]\n",
            "-3.1666\n",
            "[-4.  3.]\n",
            "[-3.  4.]\n"
          ]
        }
      ]
    },
    {
      "cell_type": "code",
      "source": [
        "\n",
        "#Rounding in array\n",
        "A=np.array([4.5,-4.5])\n",
        "print(np.fix(A))\n",
        "print(np.floor(A))\n",
        "print(np.around(A))\n",
        "print(np.ceil(A))"
      ],
      "metadata": {
        "colab": {
          "base_uri": "https://localhost:8080/"
        },
        "id": "D7hmrNYpZLlo",
        "outputId": "f6dea9bc-db6d-430a-8e9c-77668e0d96b3"
      },
      "execution_count": null,
      "outputs": [
        {
          "output_type": "stream",
          "name": "stdout",
          "text": [
            "[ 4. -4.]\n",
            "[ 4. -5.]\n",
            "[ 4. -4.]\n",
            "[ 5. -4.]\n"
          ]
        }
      ]
    },
    {
      "cell_type": "code",
      "source": [
        "A=np.array([3,4,16,19,10])\n",
        "print(np.cumsum(A))\n",
        "print(np.cumprod(A))"
      ],
      "metadata": {
        "colab": {
          "base_uri": "https://localhost:8080/"
        },
        "id": "fbW5qwYRZ7Om",
        "outputId": "4fe94605-5443-46b1-e4f8-c1e9f6e41c06"
      },
      "execution_count": null,
      "outputs": [
        {
          "output_type": "stream",
          "name": "stdout",
          "text": [
            "[ 3  7 23 42 52]\n",
            "[    3    12   192  3648 36480]\n"
          ]
        }
      ]
    },
    {
      "cell_type": "code",
      "source": [
        "\n",
        "#finding LCM and gcd\n",
        "A=np.array([45,65,30])\n",
        "print(np.lcm.reduce(A))\n",
        "print(np.gcd.reduce(A))"
      ],
      "metadata": {
        "colab": {
          "base_uri": "https://localhost:8080/"
        },
        "id": "fvEWMYoMbDU6",
        "outputId": "a0c05aba-333c-45ac-d010-eb77afbcdf2c"
      },
      "execution_count": null,
      "outputs": [
        {
          "output_type": "stream",
          "name": "stdout",
          "text": [
            "1170\n",
            "5\n"
          ]
        }
      ]
    },
    {
      "cell_type": "code",
      "source": [
        "#matrix inverse\n",
        "A=np.array([[1,2],[3,4]])\n",
        "print(np.linalg.inv(A)) #matrix A^-1"
      ],
      "metadata": {
        "colab": {
          "base_uri": "https://localhost:8080/"
        },
        "id": "URgJH1pmcf44",
        "outputId": "c99c96df-5666-49c5-863a-1959d7bcdd81"
      },
      "execution_count": null,
      "outputs": [
        {
          "output_type": "stream",
          "name": "stdout",
          "text": [
            "[[-2.   1. ]\n",
            " [ 1.5 -0.5]]\n"
          ]
        }
      ]
    },
    {
      "cell_type": "code",
      "source": [
        "#random package\n",
        "from numpy import random as rd\n",
        "A=rd.rand() #n #default limit 0 to 0.99\n",
        "print(A)"
      ],
      "metadata": {
        "colab": {
          "base_uri": "https://localhost:8080/"
        },
        "id": "QG4zj4GBdurQ",
        "outputId": "3beebada-cb85-461f-b0fc-ec0af66a588a"
      },
      "execution_count": null,
      "outputs": [
        {
          "output_type": "stream",
          "name": "stdout",
          "text": [
            "0.7730262493368879\n"
          ]
        }
      ]
    },
    {
      "cell_type": "code",
      "source": [
        "#random\n",
        "A=rd.rand(10) #limit\n",
        "print(A)"
      ],
      "metadata": {
        "colab": {
          "base_uri": "https://localhost:8080/"
        },
        "id": "q8XYW8eqeMoW",
        "outputId": "208942fd-10aa-44d0-8ae7-233da17fdc95"
      },
      "execution_count": null,
      "outputs": [
        {
          "output_type": "stream",
          "name": "stdout",
          "text": [
            "[0.67412351 0.34942212 0.04902278 0.4440402  0.88708095 0.51604325\n",
            " 0.80733008 0.03912963 0.72220761 0.17464483]\n"
          ]
        }
      ]
    },
    {
      "cell_type": "code",
      "source": [
        "#random\n",
        "A=rd.randint(4) #limit is 0,1,2,3\n",
        "print(A)\n",
        "B=rd.randint(5,size=3)\n",
        "print(B)\n",
        "C=rd.randint(50,size=(2,3))"
      ],
      "metadata": {
        "colab": {
          "base_uri": "https://localhost:8080/"
        },
        "id": "XsVwAuGxeqNN",
        "outputId": "2c85591d-c103-4bb0-c563-9bb08e1be883"
      },
      "execution_count": null,
      "outputs": [
        {
          "output_type": "stream",
          "name": "stdout",
          "text": [
            "1\n",
            "[0 1 0]\n"
          ]
        }
      ]
    },
    {
      "cell_type": "code",
      "source": [
        "#outer,inner,cross\n",
        "import numpy as np\n",
        "A=np.array([1,2,3])\n",
        "B=np.array([4,5,6])\n",
        "print(np.inner(A,B))\n",
        "print(np.outer(A,B)) #1x(4,5,6) 2x(4,5,6) 3x(4,5,6)\n",
        "print(np.cross(A,B))"
      ],
      "metadata": {
        "colab": {
          "base_uri": "https://localhost:8080/"
        },
        "id": "qjW6sdn2fx4a",
        "outputId": "a8babc8b-f96f-4377-82e1-9e33f1ce0f94"
      },
      "execution_count": null,
      "outputs": [
        {
          "output_type": "stream",
          "name": "stdout",
          "text": [
            "32\n",
            "[[ 4  5  6]\n",
            " [ 8 10 12]\n",
            " [12 15 18]]\n",
            "[-3  6 -3]\n"
          ]
        }
      ]
    }
  ]
}