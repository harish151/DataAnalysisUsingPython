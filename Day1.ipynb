{
  "nbformat": 4,
  "nbformat_minor": 0,
  "metadata": {
    "colab": {
      "provenance": []
    },
    "kernelspec": {
      "name": "python3",
      "display_name": "Python 3"
    },
    "language_info": {
      "name": "python"
    }
  },
  "cells": [
    {
      "cell_type": "code",
      "source": [
        "a=10\n",
        "print(\"I am \",a,\" years old\")"
      ],
      "metadata": {
        "colab": {
          "base_uri": "https://localhost:8080/"
        },
        "id": "iQKNa9moSbvV",
        "outputId": "02319470-5ab2-4cc2-e239-9e5c75fe2cbe"
      },
      "execution_count": null,
      "outputs": [
        {
          "output_type": "stream",
          "name": "stdout",
          "text": [
            "I am  10  years old\n"
          ]
        }
      ]
    },
    {
      "cell_type": "code",
      "source": [
        "\n",
        "#arthimetic operation on two numbers\n",
        "a=int(input(\"enter a value:\"))\n",
        "b=int(input(\"enter b value:\"))\n",
        "print(\"sum is \",a+b)\n",
        "print(\"difference is \",b-a)\n",
        "print(\"multiply is \",a*b)\n",
        "print(\"Quotient is \",a/b)\n",
        "print(\"remainder is \",a%b)\n",
        "print(\"power is \",a**b)\n",
        "print(\"floor div is \",a//b)"
      ],
      "metadata": {
        "colab": {
          "base_uri": "https://localhost:8080/"
        },
        "id": "Tv_r_4WkUrR_",
        "outputId": "5e34528f-0074-4438-dd4e-0d9a3b2062c4"
      },
      "execution_count": null,
      "outputs": [
        {
          "output_type": "stream",
          "name": "stdout",
          "text": [
            "enter a value:2\n",
            "enter b value:2\n",
            "sum is  4\n",
            "difference is  0\n",
            "multiply is  4\n",
            "Quotient is  1.0\n",
            "remainder is  0\n",
            "power is  4\n",
            "floor div is  1\n"
          ]
        }
      ]
    },
    {
      "cell_type": "code",
      "source": [
        "#take the number from the user salary.if the is more than 50k there is 10% tax.print his final salary\n",
        "salary=float(input(\"enter salary:\"))\n",
        "if(salary>=50000):\n",
        "    a=(10/100)*salary\n",
        "    print(\"10% tax is \",a,\" \\n the total salary is \",salary-a)\n",
        "else:\n",
        "    print(\"no tax.salary is \",salary)"
      ],
      "metadata": {
        "colab": {
          "base_uri": "https://localhost:8080/"
        },
        "id": "6aArMnfiYzSu",
        "outputId": "b26967a6-97fc-4fa2-fbac-a590aedee994"
      },
      "execution_count": null,
      "outputs": [
        {
          "output_type": "stream",
          "name": "stdout",
          "text": [
            "enter salary:50000\n",
            "10% tax is  5000.0  \n",
            " the total salary is  45000.0\n"
          ]
        }
      ]
    },
    {
      "cell_type": "code",
      "source": [
        "#get the salary from the user if the salary is more than or equal to 50k .apply 10% tax dection.if the salary is less than 50k apply 5% tax.if the salary is more than 70k apply 12% tax.if the salary exceeds 100k.print your promoted to next level\n",
        "salary=float(input(\"enter salary:\"))\n",
        "if(salary>=100000):\n",
        "    print(\"you are promoted to next level\",\"\\n final salary is \", salary)\n",
        "elif(salary>=70000):\n",
        "    print(\"your salary is \",salary,\" so 12% tax applied \\n the final salary is \",salary-((12/100)*salary))\n",
        "elif(salary>=50000):\n",
        "    print(\"your salary is \",salary,\" so 10% tax applied\\n the final salary is \",salary-((10/100)*salary))\n",
        "elif(salary>0 and salary<50000):\n",
        "    print(\"your salary is less than 50k\",\" so 5% tax applied \\n the final salary is \",salary-((5/100)*salary))"
      ],
      "metadata": {
        "colab": {
          "base_uri": "https://localhost:8080/"
        },
        "id": "r5sfXHPIcxOj",
        "outputId": "678e8614-5dac-42da-b896-4e4838403ffb"
      },
      "execution_count": null,
      "outputs": [
        {
          "output_type": "stream",
          "name": "stdout",
          "text": [
            "enter salary:64000\n",
            "your salary is  64000.0  so 10% tax applied\n",
            " the final salary is  57600.0\n"
          ]
        }
      ]
    },
    {
      "cell_type": "code",
      "source": [
        "#creating tables using for loop\n",
        "a=int(input(\"enter table:\"))\n",
        "b=int(input(\"enter no.of steps:\"))\n",
        "for i in range(1,b+1):\n",
        "    print(a,\"x\",i,\"=\",a*i)"
      ],
      "metadata": {
        "colab": {
          "base_uri": "https://localhost:8080/"
        },
        "id": "Cq8_ts8pnRQd",
        "outputId": "958e3f32-8a5e-488e-a61b-7e06d8275b70"
      },
      "execution_count": null,
      "outputs": [
        {
          "output_type": "stream",
          "name": "stdout",
          "text": [
            "enter table:5\n",
            "enter no.of steps:20\n",
            "5 x 1 = 5\n",
            "5 x 2 = 10\n",
            "5 x 3 = 15\n",
            "5 x 4 = 20\n",
            "5 x 5 = 25\n",
            "5 x 6 = 30\n",
            "5 x 7 = 35\n",
            "5 x 8 = 40\n",
            "5 x 9 = 45\n",
            "5 x 10 = 50\n",
            "5 x 11 = 55\n",
            "5 x 12 = 60\n",
            "5 x 13 = 65\n",
            "5 x 14 = 70\n",
            "5 x 15 = 75\n",
            "5 x 16 = 80\n",
            "5 x 17 = 85\n",
            "5 x 18 = 90\n",
            "5 x 19 = 95\n",
            "5 x 20 = 100\n"
          ]
        }
      ]
    },
    {
      "cell_type": "code",
      "source": [
        "#creating table with while loop\n",
        "a=int(input(\"enter table:\"))\n",
        "b=int(input(\"enter no.of steps:\"))\n",
        "i=1\n",
        "while(i<=b):\n",
        "   print(a,\"x\",i,\"=\",a*i)\n",
        "   i=i+1"
      ],
      "metadata": {
        "id": "fGceI3N2q3Ml"
      },
      "execution_count": null,
      "outputs": []
    },
    {
      "cell_type": "code",
      "source": [
        "\n",
        "#appending element in list\n",
        "L1=[2,\"web\",43,\"chat\",6.2,True]\n",
        "L1.append(45) #insert at end in list\n",
        "print(L1)"
      ],
      "metadata": {
        "colab": {
          "base_uri": "https://localhost:8080/"
        },
        "id": "2anxfFb7zro5",
        "outputId": "3ae709e3-fa54-4cb7-adfe-f7066a286abd"
      },
      "execution_count": null,
      "outputs": [
        {
          "output_type": "stream",
          "name": "stdout",
          "text": [
            "[2, 'web', 43, 'chat', 6.2, True, 45]\n"
          ]
        }
      ]
    },
    {
      "cell_type": "code",
      "source": [
        "#insering the element into list\n",
        "L1=[2,\"web\",43,\"chat\",6.2,True]\n",
        "L1.insert(2,64) #insert at position in list 2 be the index,64 be the element\n",
        "print(L1)"
      ],
      "metadata": {
        "colab": {
          "base_uri": "https://localhost:8080/"
        },
        "id": "VTilVbNDz834",
        "outputId": "5f16ee4e-0f27-469e-9ea9-55d2bb52047b"
      },
      "execution_count": null,
      "outputs": [
        {
          "output_type": "stream",
          "name": "stdout",
          "text": [
            "[2, 'web', 64, 43, 'chat', 6.2, True]\n"
          ]
        }
      ]
    },
    {
      "cell_type": "code",
      "source": [
        "#extend list 1 with list 2\n",
        "L1=[2,\"web\",43,\"chat\",6.2,True]\n",
        "L2=['apple','banana']\n",
        "L1.extend(L2) # merge second lists elements into first list\n",
        "print(L1)"
      ],
      "metadata": {
        "colab": {
          "base_uri": "https://localhost:8080/"
        },
        "id": "tz7WfjBZ0Csg",
        "outputId": "2fed4c0e-c4fa-4f6f-bd46-7dadbc088d71"
      },
      "execution_count": null,
      "outputs": [
        {
          "output_type": "stream",
          "name": "stdout",
          "text": [
            "[2, 'web', 43, 'chat', 6.2, True, 'apple', 'banana']\n"
          ]
        }
      ]
    },
    {
      "cell_type": "code",
      "source": [
        "#remove element in list\n",
        "L1=[2,\"web\",43,\"chat\",6.2,True]\n",
        "L1.remove(43) #remove element in list\n",
        "print(L1)"
      ],
      "metadata": {
        "colab": {
          "base_uri": "https://localhost:8080/"
        },
        "id": "P3QM9EDV0FQf",
        "outputId": "ccee9dd0-b47a-4faf-c4ed-c69e1c3ab5cc"
      },
      "execution_count": null,
      "outputs": [
        {
          "output_type": "stream",
          "name": "stdout",
          "text": [
            "[2, 'web', 'chat', 6.2, True]\n"
          ]
        }
      ]
    },
    {
      "cell_type": "code",
      "source": [
        "#pop element in list\n",
        "L1=[2,\"web\",43,\"chat\",6.2,True]\n",
        "L1.pop(2) #pop element using the index num in list\n",
        "print(L1)"
      ],
      "metadata": {
        "colab": {
          "base_uri": "https://localhost:8080/"
        },
        "id": "9wn02NrP0F4s",
        "outputId": "e00a5580-cb66-446d-a0ce-b6f2eb6328d6"
      },
      "execution_count": null,
      "outputs": [
        {
          "output_type": "stream",
          "name": "stdout",
          "text": [
            "[2, 'web', 'chat', 6.2, True]\n"
          ]
        }
      ]
    },
    {
      "cell_type": "code",
      "source": [
        "#clear element in list\n",
        "L1=[2,\"web\",43,\"chat\",6.2,True]\n",
        "L1.clear() #clear the list and return empty list\n",
        "print(L1)"
      ],
      "metadata": {
        "colab": {
          "base_uri": "https://localhost:8080/"
        },
        "id": "otgxa1j90GMT",
        "outputId": "f0d42d52-abd9-4ffe-f6e0-578b979a25d0"
      },
      "execution_count": null,
      "outputs": [
        {
          "output_type": "stream",
          "name": "stdout",
          "text": [
            "[]\n"
          ]
        }
      ]
    },
    {
      "cell_type": "code",
      "source": [
        "#create a list of 10 integer elements.print their squares.same these square in new list\n",
        "L1=[12,14,56,17,95,48,70,89,23,52]\n",
        "L2=[]\n",
        "L2=[i*i for i in L1 if i>50]\n",
        "#L2=[i*i if i>50 else 'x' for i in L1]\n",
        "'''for i in L1:\n",
        "   L2.append(i*i)'''\n",
        "print(L2)"
      ],
      "metadata": {
        "colab": {
          "base_uri": "https://localhost:8080/"
        },
        "id": "w0dBKPhn0HhO",
        "outputId": "48f27333-5ee6-4d87-f0ff-d45fa9629266"
      },
      "execution_count": null,
      "outputs": [
        {
          "output_type": "stream",
          "name": "stdout",
          "text": [
            "[3136, 9025, 4900, 7921, 2704]\n"
          ]
        }
      ]
    },
    {
      "cell_type": "code",
      "source": [
        "#take the salary from the user if salary is less than 50k 10% tax otherwise 15%\n",
        "L1=[23000,20000,56000,43000,72000,100000]\n",
        "L2=[i-0.1*i if i<50000 else i-i*0.15 for i in L1]\n",
        "print(L2)"
      ],
      "metadata": {
        "colab": {
          "base_uri": "https://localhost:8080/"
        },
        "id": "w3Www-etJ0MJ",
        "outputId": "4ca504a4-5296-4e1f-a296-78db78b5c3a7"
      },
      "execution_count": null,
      "outputs": [
        {
          "output_type": "stream",
          "name": "stdout",
          "text": [
            "[20700.0, 18000.0, 47600.0, 38700.0, 61200.0, 85000.0]\n"
          ]
        }
      ]
    },
    {
      "cell_type": "code",
      "source": [
        "#creating dictionary\n",
        "dict ={23:'tiger',34:'lion',35:'cheetha',48:'dear'}\n",
        "print(dict)\n",
        "print(dict.keys())\n",
        "print(dict.values())\n",
        "print(dict[23])"
      ],
      "metadata": {
        "colab": {
          "base_uri": "https://localhost:8080/"
        },
        "id": "YB3mb6j5Nv13",
        "outputId": "6903be8c-84d8-48a9-96d5-5c30c0157420"
      },
      "execution_count": null,
      "outputs": [
        {
          "output_type": "stream",
          "name": "stdout",
          "text": [
            "{23: 'tiger', 34: 'lion', 35: 'cheetha', 48: 'dear'}\n",
            "dict_keys([23, 34, 35, 48])\n",
            "dict_values(['tiger', 'lion', 'cheetha', 'dear'])\n",
            "tiger\n"
          ]
        }
      ]
    },
    {
      "cell_type": "code",
      "source": [
        "dict={\"dept\":\"cse\", 'details':{\"year\":\"II\",'sec':'D','count':71}}\n",
        "print(dict[\"details\"][\"year\"])\n",
        "print(dict[\"details\"][\"sec\"])\n",
        "print(dict[\"details\"][\"count\"])"
      ],
      "metadata": {
        "colab": {
          "base_uri": "https://localhost:8080/"
        },
        "id": "UsB56Ha4Ph0S",
        "outputId": "0ff995cf-a565-41db-94dc-fd7559bd32bf"
      },
      "execution_count": null,
      "outputs": [
        {
          "output_type": "stream",
          "name": "stdout",
          "text": [
            "II\n",
            "D\n",
            "71\n"
          ]
        }
      ]
    },
    {
      "cell_type": "code",
      "source": [
        "#create dictionary using two lists\n",
        "L1=[2,3,4,5,6]\n",
        "L2=[4,9,16,25,36]\n",
        "dic1=dict(zip(L1,L2))\n",
        "print(dic1)"
      ],
      "metadata": {
        "colab": {
          "base_uri": "https://localhost:8080/"
        },
        "id": "uqn76MRNRap2",
        "outputId": "89b89301-ab65-4a5a-f8ec-32466d0f98bd"
      },
      "execution_count": null,
      "outputs": [
        {
          "output_type": "stream",
          "name": "stdout",
          "text": [
            "{2: 4, 3: 9, 4: 16, 5: 25, 6: 36}\n"
          ]
        }
      ]
    },
    {
      "cell_type": "code",
      "source": [
        "#numpy using create 1d array\n",
        "import numpy as np\n",
        "A=np.array([1,2,3,4]) #1d array\n",
        "print(A.ndim)\n",
        "print(A.shape)\n",
        "print(A)"
      ],
      "metadata": {
        "colab": {
          "base_uri": "https://localhost:8080/"
        },
        "id": "xoG-hX69eaAw",
        "outputId": "3d5dfaa0-901f-477f-d0f3-b71bcb33a5ef"
      },
      "execution_count": null,
      "outputs": [
        {
          "output_type": "stream",
          "name": "stdout",
          "text": [
            "1\n",
            "(4,)\n",
            "[1 2 3 4]\n"
          ]
        }
      ]
    },
    {
      "cell_type": "code",
      "source": [
        "\n",
        "#2d array creation\n",
        "import numpy as np\n",
        "A=np.array([[2,3,4],[5,6,7],[8,9,10]])\n",
        "#elements in each row = column\n",
        "print(A.ndim)\n",
        "print(A.shape)\n",
        "print(A)"
      ],
      "metadata": {
        "colab": {
          "base_uri": "https://localhost:8080/"
        },
        "id": "NUxW70uAfMzM",
        "outputId": "3ff87b5b-e922-4e62-aecb-74eedfb89b58"
      },
      "execution_count": null,
      "outputs": [
        {
          "output_type": "stream",
          "name": "stdout",
          "text": [
            "2\n",
            "(3, 3)\n",
            "[[ 2  3  4]\n",
            " [ 5  6  7]\n",
            " [ 8  9 10]]\n"
          ]
        }
      ]
    },
    {
      "cell_type": "code",
      "source": [
        "import numpy as np\n",
        "A=np.array([[[1,2],[2,3],[3,4]],[[4,5],[5,6],[6,8]]])\n",
        "print(A.ndim)\n",
        "print(A.shape)\n",
        "print(A)"
      ],
      "metadata": {
        "colab": {
          "base_uri": "https://localhost:8080/"
        },
        "id": "IGTiWxEngzkH",
        "outputId": "50f3a11e-cc32-4726-bf49-453810888805"
      },
      "execution_count": null,
      "outputs": [
        {
          "output_type": "stream",
          "name": "stdout",
          "text": [
            "3\n",
            "(2, 3, 2)\n",
            "[[[1 2]\n",
            "  [2 3]\n",
            "  [3 4]]\n",
            "\n",
            " [[4 5]\n",
            "  [5 6]\n",
            "  [6 8]]]\n"
          ]
        }
      ]
    },
    {
      "cell_type": "code",
      "source": [
        "#creating two dimension array using ones((row,col)) function\n",
        "import numpy as np\n",
        "A=np.zeros((2,4))\n",
        "print(A)\n",
        "B=np.ones((2,3,4))\n",
        "print(B)"
      ],
      "metadata": {
        "colab": {
          "base_uri": "https://localhost:8080/"
        },
        "id": "CYj_9361i6iA",
        "outputId": "344435dc-def3-420b-dacf-3900682dbe9c"
      },
      "execution_count": null,
      "outputs": [
        {
          "output_type": "stream",
          "name": "stdout",
          "text": [
            "[[0. 0. 0. 0.]\n",
            " [0. 0. 0. 0.]]\n",
            "[[[1. 1. 1. 1.]\n",
            "  [1. 1. 1. 1.]\n",
            "  [1. 1. 1. 1.]]\n",
            "\n",
            " [[1. 1. 1. 1.]\n",
            "  [1. 1. 1. 1.]\n",
            "  [1. 1. 1. 1.]]]\n"
          ]
        }
      ]
    },
    {
      "cell_type": "code",
      "source": [
        "\n",
        "#all diagonals as 1 and remain 0 using eye() function\n",
        "import numpy as np\n",
        "A=np.eye(4)\n",
        "print(A)"
      ],
      "metadata": {
        "colab": {
          "base_uri": "https://localhost:8080/"
        },
        "id": "p29JU5vpj3Mo",
        "outputId": "370c9b26-6b4d-4d0d-f46c-4ef77e462114"
      },
      "execution_count": null,
      "outputs": [
        {
          "output_type": "stream",
          "name": "stdout",
          "text": [
            "[[1. 0. 0. 0.]\n",
            " [0. 1. 0. 0.]\n",
            " [0. 0. 1. 0.]\n",
            " [0. 0. 0. 1.]]\n"
          ]
        }
      ]
    },
    {
      "cell_type": "code",
      "source": [
        "#create rows and columns using arange function\n",
        "import numpy as np\n",
        "A=np.arange(1,10,2) #start,stop,step\n",
        "print(A)\n",
        "print(type(A))"
      ],
      "metadata": {
        "colab": {
          "base_uri": "https://localhost:8080/"
        },
        "id": "3sSaY3sakpK6",
        "outputId": "7f010f58-1b4c-4e57-97b7-e63527753fd1"
      },
      "execution_count": null,
      "outputs": [
        {
          "output_type": "stream",
          "name": "stdout",
          "text": [
            "[1 3 5 7 9]\n",
            "<class 'numpy.ndarray'>\n"
          ]
        }
      ]
    },
    {
      "cell_type": "code",
      "source": [
        "#print all the numbers are divisible by 8 using arange function b/w 1 to 1000\n",
        "import numpy as np\n",
        "A=np.arange(8,1001,8)\n",
        "print(A)"
      ],
      "metadata": {
        "colab": {
          "base_uri": "https://localhost:8080/"
        },
        "id": "YmLxvrgIlXwv",
        "outputId": "11c379c0-5d4f-403a-8bdf-dc18a0b1b293"
      },
      "execution_count": null,
      "outputs": [
        {
          "output_type": "stream",
          "name": "stdout",
          "text": [
            "[   8   16   24   32   40   48   56   64   72   80   88   96  104  112\n",
            "  120  128  136  144  152  160  168  176  184  192  200  208  216  224\n",
            "  232  240  248  256  264  272  280  288  296  304  312  320  328  336\n",
            "  344  352  360  368  376  384  392  400  408  416  424  432  440  448\n",
            "  456  464  472  480  488  496  504  512  520  528  536  544  552  560\n",
            "  568  576  584  592  600  608  616  624  632  640  648  656  664  672\n",
            "  680  688  696  704  712  720  728  736  744  752  760  768  776  784\n",
            "  792  800  808  816  824  832  840  848  856  864  872  880  888  896\n",
            "  904  912  920  928  936  944  952  960  968  976  984  992 1000]\n"
          ]
        }
      ]
    },
    {
      "cell_type": "code",
      "source": [
        "#linspace- splitting the range into n numbers having common difference\n",
        "import numpy as np\n",
        "A=np.linspace(3,2,12)\n",
        "print(A)"
      ],
      "metadata": {
        "colab": {
          "base_uri": "https://localhost:8080/"
        },
        "id": "nBhIG5-jmhZ5",
        "outputId": "83486a5f-5a83-413d-aa44-3de1658e38f6"
      },
      "execution_count": null,
      "outputs": [
        {
          "output_type": "stream",
          "name": "stdout",
          "text": [
            "[3.         2.90909091 2.81818182 2.72727273 2.63636364 2.54545455\n",
            " 2.45454545 2.36363636 2.27272727 2.18181818 2.09090909 2.        ]\n"
          ]
        }
      ]
    },
    {
      "cell_type": "code",
      "source": [
        "#creating tuple\n",
        "A=('apple','banana','orange','grapes')\n",
        "B=('apple',12,True,45.4)\n",
        "print(A)\n",
        "print(B)"
      ],
      "metadata": {
        "colab": {
          "base_uri": "https://localhost:8080/"
        },
        "id": "MJ_7ybzThEX-",
        "outputId": "769f25a5-a07b-45a6-9780-d599a9359a25"
      },
      "execution_count": null,
      "outputs": [
        {
          "output_type": "stream",
          "name": "stdout",
          "text": [
            "('apple', 'banana', 'orange', 'grapes')\n",
            "('apple', 12, True, 45.4)\n"
          ]
        }
      ]
    },
    {
      "cell_type": "code",
      "source": [
        "#accessing tuple\n",
        "A=('apple','banana','graph',45,True,45,7)\n",
        "print(A[0])\n",
        "print(A[1])\n",
        "print(A[2])\n",
        "print(A[3])\n",
        "print(A[4])\n",
        "print(A[5])"
      ],
      "metadata": {
        "colab": {
          "base_uri": "https://localhost:8080/"
        },
        "id": "-ZgoT2wljWRS",
        "outputId": "ecdfd210-7ee9-4c63-f661-5b2decf2c11e"
      },
      "execution_count": null,
      "outputs": [
        {
          "output_type": "stream",
          "name": "stdout",
          "text": [
            "apple\n",
            "banana\n",
            "graph\n",
            "45\n",
            "True\n",
            "45\n"
          ]
        }
      ]
    },
    {
      "cell_type": "code",
      "source": [
        "#accessing tuple\n",
        "A=(2,3,5,7,9,0)\n",
        "print(A[-1])\n",
        "print(A[0:4])\n",
        "print(A[-4:-1])"
      ],
      "metadata": {
        "colab": {
          "base_uri": "https://localhost:8080/"
        },
        "id": "_N2KlOpbkx_S",
        "outputId": "939a75c9-9fea-4dfb-f992-1da878f6a4f3"
      },
      "execution_count": null,
      "outputs": [
        {
          "output_type": "stream",
          "name": "stdout",
          "text": [
            "0\n",
            "(2, 3, 5, 7)\n",
            "(5, 7, 9)\n"
          ]
        }
      ]
    },
    {
      "cell_type": "code",
      "source": [
        "#print tuples using for loop\n",
        "A=(1,2,3,4,6)\n",
        "for i in A:\n",
        "    print(i)"
      ],
      "metadata": {
        "colab": {
          "base_uri": "https://localhost:8080/"
        },
        "id": "7Nqxx-6VlV9V",
        "outputId": "8416ec63-fcb9-4fbe-adf6-06a097c82932"
      },
      "execution_count": null,
      "outputs": [
        {
          "output_type": "stream",
          "name": "stdout",
          "text": [
            "1\n",
            "2\n",
            "3\n",
            "4\n",
            "6\n"
          ]
        }
      ]
    },
    {
      "cell_type": "code",
      "source": [
        "#length of tuple\n",
        "A=(9,4,23,56)\n",
        "print(len(A)) #length function\n",
        "print(type(A)) #type of A"
      ],
      "metadata": {
        "colab": {
          "base_uri": "https://localhost:8080/"
        },
        "id": "4NvZXV7Cl9cO",
        "outputId": "636aaedf-b68b-4bdd-d2ff-67e668159f11"
      },
      "execution_count": null,
      "outputs": [
        {
          "output_type": "stream",
          "name": "stdout",
          "text": [
            "4\n",
            "<class 'tuple'>\n"
          ]
        }
      ]
    },
    {
      "cell_type": "code",
      "source": [
        "#adding values into tuple\n",
        "#tuple convert into list and add elements and again list us conver into tuple\n",
        "A=(1,2,3,4,5)\n",
        "B=list(A)\n",
        "B.append(10)\n",
        "C=list(B)\n",
        "print(C)"
      ],
      "metadata": {
        "colab": {
          "base_uri": "https://localhost:8080/"
        },
        "id": "5_6GJneimVK2",
        "outputId": "a2a4b325-b435-41fc-eb97-a77000e314d3"
      },
      "execution_count": null,
      "outputs": [
        {
          "output_type": "stream",
          "name": "stdout",
          "text": [
            "[1, 2, 3, 4, 5, 10]\n"
          ]
        }
      ]
    },
    {
      "cell_type": "code",
      "source": [
        "#tuple operations\n",
        "A=(1,2,3)\n",
        "B=(4,5,6)\n",
        "C=A+B #concate\n",
        "print(C)\n",
        "print(A*2) #tuple A elements are again add in same tuple\n",
        "print(len(A)) #length of tuple\n",
        "print(3 in A) #checking if element is present in the tuple"
      ],
      "metadata": {
        "id": "KttXqKoWpK1D",
        "colab": {
          "base_uri": "https://localhost:8080/"
        },
        "outputId": "3f2d5eb6-6bd4-4f78-ba72-b088713b39e8"
      },
      "execution_count": null,
      "outputs": [
        {
          "output_type": "stream",
          "name": "stdout",
          "text": [
            "(1, 2, 3, 4, 5, 6)\n",
            "(1, 2, 3, 1, 2, 3)\n",
            "3\n",
            "True\n"
          ]
        }
      ]
    },
    {
      "cell_type": "code",
      "source": [
        " #functions in tuple\n",
        "A=(1,2,3)\n",
        "B=(4,5,6)\n",
        "print(min(A)) #minimum value in tuple A\n",
        "print(max(B)) #maximum value in tuple B"
      ],
      "metadata": {
        "colab": {
          "base_uri": "https://localhost:8080/"
        },
        "id": "byiUGfs92bZn",
        "outputId": "92523bba-fe08-4230-c112-8ac227f73a69"
      },
      "execution_count": null,
      "outputs": [
        {
          "output_type": "stream",
          "name": "stdout",
          "text": [
            "1\n",
            "6\n"
          ]
        }
      ]
    },
    {
      "cell_type": "code",
      "source": [
        "#creating set\n",
        "A={1,2,3,4}\n",
        "print(A)"
      ],
      "metadata": {
        "colab": {
          "base_uri": "https://localhost:8080/"
        },
        "id": "N3nK0VP36K9y",
        "outputId": "e8c2eeba-d15e-41fe-910b-e9b29eff3ae8"
      },
      "execution_count": null,
      "outputs": [
        {
          "output_type": "stream",
          "name": "stdout",
          "text": [
            "{1, 2, 3, 4}\n"
          ]
        }
      ]
    },
    {
      "cell_type": "code",
      "source": [
        "#add and remove new elements in set\n",
        "A={1,2,3,4}\n",
        "A.add(10)\n",
        "print(A)\n",
        "A.pop() #this function is pop first element in set\n",
        "A.remove(4) #this removes specific element\n",
        "print(A)"
      ],
      "metadata": {
        "colab": {
          "base_uri": "https://localhost:8080/"
        },
        "id": "ge1SliKS6ctx",
        "outputId": "43058e2e-ce7a-45b9-d547-f30aa675974f"
      },
      "execution_count": null,
      "outputs": [
        {
          "output_type": "stream",
          "name": "stdout",
          "text": [
            "{1, 2, 3, 4, 10}\n",
            "{2, 3, 10}\n"
          ]
        }
      ]
    },
    {
      "cell_type": "code",
      "source": [
        "#difference b/w sets\n",
        "A={1,2,3,4}\n",
        "B={3,4,5,6}\n",
        "C=A.difference(B)\n",
        "print(C)"
      ],
      "metadata": {
        "colab": {
          "base_uri": "https://localhost:8080/"
        },
        "id": "sdMHigSF6oBL",
        "outputId": "0a459768-dfd1-4158-82a8-ca1f89c78acf"
      },
      "execution_count": null,
      "outputs": [
        {
          "output_type": "stream",
          "name": "stdout",
          "text": [
            "{1, 2}\n"
          ]
        }
      ]
    },
    {
      "cell_type": "code",
      "source": [
        "#intersection\n",
        "A={1,2,3,4,5}\n",
        "B={4,5,2,7,8}\n",
        "C=A.intersection(B)\n",
        "print(C)"
      ],
      "metadata": {
        "colab": {
          "base_uri": "https://localhost:8080/"
        },
        "id": "R-RT55XMUJDJ",
        "outputId": "c247e985-133e-42cd-e5d9-46834e156a6b"
      },
      "execution_count": null,
      "outputs": [
        {
          "output_type": "stream",
          "name": "stdout",
          "text": [
            "{2, 4, 5}\n"
          ]
        }
      ]
    },
    {
      "cell_type": "code",
      "source": [
        "#update the set with another set\n",
        "A={1,2,3,6}\n",
        "B={3,4}\n",
        "C=B.update(A)\n",
        "print(C)"
      ],
      "metadata": {
        "colab": {
          "base_uri": "https://localhost:8080/"
        },
        "id": "fK1tgY0yVAlQ",
        "outputId": "acb131d9-7c95-4423-d7b9-9a36260120cd"
      },
      "execution_count": null,
      "outputs": [
        {
          "output_type": "stream",
          "name": "stdout",
          "text": [
            "None\n"
          ]
        }
      ]
    },
    {
      "cell_type": "code",
      "source": [
        "#union\n",
        "A={1,2,3,4}\n",
        "B={5,7,2,9}\n",
        "C=A.union(B)\n",
        "print(C)"
      ],
      "metadata": {
        "colab": {
          "base_uri": "https://localhost:8080/"
        },
        "id": "L4sFZFCwSwG7",
        "outputId": "fd959839-23d8-4609-da0f-42a1cf939263"
      },
      "execution_count": null,
      "outputs": [
        {
          "output_type": "stream",
          "name": "stdout",
          "text": [
            "{1, 2, 3, 4, 5, 7, 9}\n"
          ]
        }
      ]
    }
  ]
}